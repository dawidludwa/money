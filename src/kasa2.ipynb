{
 "cells": [
  {
   "cell_type": "code",
   "execution_count": 1,
   "metadata": {},
   "outputs": [],
   "source": [
    "import pandas as pd\n",
    "import numpy as np\n",
    "import matplotlib.pyplot as plt\n",
    "import seaborn as sns\n",
    "from tools import clean_data, set_new_names, set_category\n",
    "import os\n",
    "import glob\n"
   ]
  },
  {
   "cell_type": "code",
   "execution_count": 2,
   "metadata": {},
   "outputs": [],
   "source": [
    "df = pd.read_csv(r'../data/Lista_transakcji_nr_0165421859_200723.csv', sep=';', decimal=',', encoding='windows-1250')"
   ]
  },
  {
   "cell_type": "code",
   "execution_count": 3,
   "metadata": {},
   "outputs": [],
   "source": [
    "df_clean = clean_data(df.copy())\n",
    "df = df_clean.copy()"
   ]
  },
  {
   "cell_type": "code",
   "execution_count": 5,
   "metadata": {},
   "outputs": [],
   "source": [
    "df = set_new_names(df.copy())"
   ]
  },
  {
   "cell_type": "code",
   "execution_count": 6,
   "metadata": {},
   "outputs": [],
   "source": [
    "df[\"details_2\"].fillna(\"not set\", inplace=True)"
   ]
  },
  {
   "cell_type": "code",
   "execution_count": 7,
   "metadata": {},
   "outputs": [],
   "source": [
    "df = set_category(df.copy())"
   ]
  },
  {
   "cell_type": "code",
   "execution_count": 8,
   "metadata": {},
   "outputs": [],
   "source": [
    "df['category'].fillna('other', inplace=True)\n",
    "df['category'] = df['category'].str.lower()\n",
    "df['details'] = df['details'].str.lower()"
   ]
  },
  {
   "cell_type": "code",
   "execution_count": 10,
   "metadata": {},
   "outputs": [],
   "source": [
    "df['account'].fillna('unknown', inplace=True)\n",
    "df['category'] = df['category'].astype('category')"
   ]
  },
  {
   "cell_type": "code",
   "execution_count": 13,
   "metadata": {},
   "outputs": [
    {
     "data": {
      "text/html": [
       "<div>\n",
       "<style scoped>\n",
       "    .dataframe tbody tr th:only-of-type {\n",
       "        vertical-align: middle;\n",
       "    }\n",
       "\n",
       "    .dataframe tbody tr th {\n",
       "        vertical-align: top;\n",
       "    }\n",
       "\n",
       "    .dataframe thead th {\n",
       "        text-align: right;\n",
       "    }\n",
       "</style>\n",
       "<table border=\"1\" class=\"dataframe\">\n",
       "  <thead>\n",
       "    <tr style=\"text-align: right;\">\n",
       "      <th></th>\n",
       "      <th>date</th>\n",
       "      <th>details</th>\n",
       "      <th>title</th>\n",
       "      <th>account</th>\n",
       "      <th>transaction</th>\n",
       "      <th>amount</th>\n",
       "      <th>details_2</th>\n",
       "      <th>category</th>\n",
       "    </tr>\n",
       "  </thead>\n",
       "  <tbody>\n",
       "    <tr>\n",
       "      <th>0</th>\n",
       "      <td>2023-07-20</td>\n",
       "      <td>dawid ludwa</td>\n",
       "      <td>bo tak</td>\n",
       "      <td>54102049550000760201606797</td>\n",
       "      <td>202320197209545076</td>\n",
       "      <td>-50.00</td>\n",
       "      <td>not set</td>\n",
       "      <td>other</td>\n",
       "    </tr>\n",
       "    <tr>\n",
       "      <th>3</th>\n",
       "      <td>2023-07-20</td>\n",
       "      <td>zus centrum obsługi świadczeń dla r, odzin, ul...</td>\n",
       "      <td>świadczenie zus 010000c230722tsw/1014718256 ro...</td>\n",
       "      <td>82102056040000010289963017</td>\n",
       "      <td>202320197203279992</td>\n",
       "      <td>500.00</td>\n",
       "      <td>delkatesy</td>\n",
       "      <td>bills</td>\n",
       "    </tr>\n",
       "    <tr>\n",
       "      <th>4</th>\n",
       "      <td>2023-07-19</td>\n",
       "      <td>ludwa dawid jan, i ludwa anna, edmunda ciećkie...</td>\n",
       "      <td>przelew własny</td>\n",
       "      <td>64105015621000009117462698</td>\n",
       "      <td>202320097202882525</td>\n",
       "      <td>1000.00</td>\n",
       "      <td>konto</td>\n",
       "      <td>other</td>\n",
       "    </tr>\n",
       "    <tr>\n",
       "      <th>11</th>\n",
       "      <td>2023-07-18</td>\n",
       "      <td>lidl lukasinskiego  nowy sacz  pol</td>\n",
       "      <td>płatność kartą 18.07.2023 nr karty 4246xx8188</td>\n",
       "      <td>1915031/19730</td>\n",
       "      <td>202320197304224746</td>\n",
       "      <td>-56.20</td>\n",
       "      <td>lidl</td>\n",
       "      <td>grocery store</td>\n",
       "    </tr>\n",
       "    <tr>\n",
       "      <th>12</th>\n",
       "      <td>2023-07-18</td>\n",
       "      <td>piekarnia oracz a. oracz  nowy sacz</td>\n",
       "      <td>płatność kartą 18.07.2023 nr karty 4246xx8188</td>\n",
       "      <td>1915031/19730</td>\n",
       "      <td>202320197301037340</td>\n",
       "      <td>-40.57</td>\n",
       "      <td>oracz</td>\n",
       "      <td>grocery store</td>\n",
       "    </tr>\n",
       "  </tbody>\n",
       "</table>\n",
       "</div>"
      ],
      "text/plain": [
       "         date                                            details  \\\n",
       "0  2023-07-20                                        dawid ludwa   \n",
       "3  2023-07-20  zus centrum obsługi świadczeń dla r, odzin, ul...   \n",
       "4  2023-07-19  ludwa dawid jan, i ludwa anna, edmunda ciećkie...   \n",
       "11 2023-07-18                 lidl lukasinskiego  nowy sacz  pol   \n",
       "12 2023-07-18                piekarnia oracz a. oracz  nowy sacz   \n",
       "\n",
       "                                                title  \\\n",
       "0                                              bo tak   \n",
       "3   świadczenie zus 010000c230722tsw/1014718256 ro...   \n",
       "4                                      przelew własny   \n",
       "11      płatność kartą 18.07.2023 nr karty 4246xx8188   \n",
       "12      płatność kartą 18.07.2023 nr karty 4246xx8188   \n",
       "\n",
       "                       account         transaction   amount  details_2  \\\n",
       "0   54102049550000760201606797  202320197209545076   -50.00    not set   \n",
       "3   82102056040000010289963017  202320197203279992   500.00  delkatesy   \n",
       "4   64105015621000009117462698  202320097202882525  1000.00      konto   \n",
       "11               1915031/19730  202320197304224746   -56.20       lidl   \n",
       "12               1915031/19730  202320197301037340   -40.57      oracz   \n",
       "\n",
       "         category  \n",
       "0           other  \n",
       "3           bills  \n",
       "4           other  \n",
       "11  grocery store  \n",
       "12  grocery store  "
      ]
     },
     "execution_count": 13,
     "metadata": {},
     "output_type": "execute_result"
    }
   ],
   "source": [
    "df.head()"
   ]
  },
  {
   "cell_type": "code",
   "execution_count": 14,
   "metadata": {},
   "outputs": [
    {
     "data": {
      "text/plain": [
       "(Timestamp('2023-01-20 00:00:00'), Timestamp('2023-07-20 00:00:00'))"
      ]
     },
     "execution_count": 14,
     "metadata": {},
     "output_type": "execute_result"
    }
   ],
   "source": [
    "min(df['date']), max(df['date'])"
   ]
  },
  {
   "cell_type": "code",
   "execution_count": 17,
   "metadata": {},
   "outputs": [],
   "source": [
    "# get current date\n",
    "from datetime import date\n",
    "from datetime import datetime   \n",
    "now = datetime.now()\n",
    "today = date.today()"
   ]
  },
  {
   "cell_type": "code",
   "execution_count": 24,
   "metadata": {},
   "outputs": [],
   "source": [
    "file_name = today.strftime(\"%d%m%Y\") + now.strftime(\"%H%M%S\")"
   ]
  },
  {
   "cell_type": "code",
   "execution_count": 25,
   "metadata": {},
   "outputs": [
    {
     "data": {
      "text/plain": [
       "'30012024143053'"
      ]
     },
     "execution_count": 25,
     "metadata": {},
     "output_type": "execute_result"
    }
   ],
   "source": [
    "file_name"
   ]
  },
  {
   "cell_type": "code",
   "execution_count": null,
   "metadata": {},
   "outputs": [],
   "source": []
  }
 ],
 "metadata": {
  "kernelspec": {
   "display_name": "Python 3",
   "language": "python",
   "name": "python3"
  },
  "language_info": {
   "codemirror_mode": {
    "name": "ipython",
    "version": 3
   },
   "file_extension": ".py",
   "mimetype": "text/x-python",
   "name": "python",
   "nbconvert_exporter": "python",
   "pygments_lexer": "ipython3",
   "version": "3.11.3"
  }
 },
 "nbformat": 4,
 "nbformat_minor": 2
}
